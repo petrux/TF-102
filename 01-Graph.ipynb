{
 "cells": [
  {
   "cell_type": "markdown",
   "metadata": {},
   "source": [
    "# Anatomy of a `tf.Graph`\n",
    "\n",
    "A `tf.Graph` contains a set of `tf.Operation` objects, which represent units of computation; and `tf.Tensor` objects, which represent the units of data that flow between operations. We can see a `tf.Graph` (also in the *pythonic* way) as a context for the creation and the organization of such objects. All the objects created in TF belongs to a `tf.Graph`. \n",
    "\n",
    "First of all, we have to say that even if not  specified explicitly, they are bound to a default one:"
   ]
  },
  {
   "cell_type": "code",
   "execution_count": 1,
   "metadata": {
    "collapsed": false
   },
   "outputs": [
    {
     "name": "stdout",
     "output_type": "stream",
     "text": [
      "the default graph id is: 140266256133328\n"
     ]
    }
   ],
   "source": [
    "import tensorflow as tf\n",
    "\n",
    "x = tf.Variable(23, 'x')\n",
    "assert x.graph == tf.get_default_graph()\n",
    "print('the default graph id is: %s' % str(id(tf.get_default_graph())))"
   ]
  },
  {
   "cell_type": "markdown",
   "metadata": {},
   "source": [
    "## Graphs as contexts\n",
    "If we want to bind variables (and ops and tensors) to a particular graph, we have to us it as a context and wrap the variable creation in its scope through the `with` construct and the `tf.Graph.as_default()` method: this will made the given `tf.Graph` instance the default graph in that scope:"
   ]
  },
  {
   "cell_type": "code",
   "execution_count": 2,
   "metadata": {
    "collapsed": false
   },
   "outputs": [
    {
     "name": "stdout",
     "output_type": "stream",
     "text": [
      "the new graph id is: 140265636620048\n",
      "the default graph in this context scope is: 140265636620048\n",
      "again outside the scope, the default graph id is: 140266256133328\n"
     ]
    }
   ],
   "source": [
    "graph = tf.Graph()\n",
    "print('the new graph id is: %s' % str(id(graph)))\n",
    "assert graph != tf.get_default_graph()\n",
    "with graph.as_default() as g:\n",
    "    y = tf.Variable(9, 'x')\n",
    "    assert g == tf.get_default_graph()\n",
    "    assert g == y.graph\n",
    "    print('the default graph in this context scope is: %s' % str(id(tf.get_default_graph())))\n",
    "print('again outside the scope, the default graph id is: %s' % str(id(tf.get_default_graph())))"
   ]
  },
  {
   "cell_type": "markdown",
   "metadata": {
    "collapsed": false
   },
   "source": [
    "## Graph Collections\n",
    "One interesting feature of the `tf.Graph` is that it holds some *collections* that are particularly handy when you have to manage variables, activations, summaries (see later) and queue runners (see later, as well). In particular, when you create a variable, it is already stored into proper collections of the graph so that it can be accessed later very easily.---this holds not only for variables, of course.  \n",
    "  \n",
    "You can access such collections with their keys, which are stored in the `tf.GraphKeys` class:"
   ]
  },
  {
   "cell_type": "code",
   "execution_count": 3,
   "metadata": {
    "collapsed": false
   },
   "outputs": [
    {
     "name": "stdout",
     "output_type": "stream",
     "text": [
      "Here are all the keys to access collections in `tf.Graph`:\n",
      "  ACTIVATIONS\n",
      "  ASSET_FILEPATHS\n",
      "  BIASES\n",
      "  CONCATENATED_VARIABLES\n",
      "  COND_CONTEXT\n",
      "  EVAL_STEP\n",
      "  GLOBAL_STEP\n",
      "  GLOBAL_VARIABLES\n",
      "  INIT_OP\n",
      "  LOCAL_INIT_OP\n",
      "  LOCAL_RESOURCES\n",
      "  LOCAL_VARIABLES\n",
      "  LOSSES\n",
      "  MODEL_VARIABLES\n",
      "  MOVING_AVERAGE_VARIABLES\n",
      "  QUEUE_RUNNERS\n",
      "  READY_FOR_LOCAL_INIT_OP\n",
      "  READY_OP\n",
      "  REGULARIZATION_LOSSES\n",
      "  RESOURCES\n",
      "  SAVEABLE_OBJECTS\n",
      "  SAVERS\n",
      "  SUMMARIES\n",
      "  SUMMARY_OP\n",
      "  TABLE_INITIALIZERS\n",
      "  TRAINABLE_RESOURCE_VARIABLES\n",
      "  TRAINABLE_VARIABLES\n",
      "  TRAIN_OP\n",
      "  UPDATE_OPS\n",
      "  VARIABLES\n",
      "  WEIGHTS\n",
      "  WHILE_CONTEXT\n"
     ]
    }
   ],
   "source": [
    "print('Here are all the keys to access collections in `tf.Graph`:')\n",
    "for attr in dir(tf.GraphKeys):\n",
    "    if not attr.startswith('_'):\n",
    "        print '  ' + attr"
   ]
  },
  {
   "cell_type": "markdown",
   "metadata": {},
   "source": [
    "Such collections are intended to have a **clear semantics**: you won't be looking for trainable variables in the `QUEUE_RUNNERS` collections (and viceversa). Such semantics is used implicitly by many functions and ops in the default TF library so that when an object is created, it is automatically added to the proper collection. As an example, when we create a `tf.Variable`, it is added to the `GLOBAL_VARIABLES` collection and if we make it trainable, it is added to the `TRAINABLE_VARIABLES` as well."
   ]
  },
  {
   "cell_type": "code",
   "execution_count": 4,
   "metadata": {
    "collapsed": false
   },
   "outputs": [
    {
     "name": "stdout",
     "output_type": "stream",
     "text": [
      "let's inspect the graph 140265636622096\n",
      "The variables are:\n",
      "x:0\n",
      "y:0\n",
      "\n",
      "The trainable_variables are:\n",
      "x:0\n",
      "\n"
     ]
    }
   ],
   "source": [
    "with tf.Graph().as_default() as graph:\n",
    "    x = tf.Variable(23, name='x')\n",
    "    y = tf.Variable(9, name='y', trainable=False)\n",
    "    \n",
    "print('let\\'s inspect the graph %s' % str(id(graph)))\n",
    "print('The %s are:' % tf.GraphKeys.GLOBAL_VARIABLES)\n",
    "variables = graph.get_collection(tf.GraphKeys.GLOBAL_VARIABLES)\n",
    "for var in variables:\n",
    "    print var.name\n",
    "print\n",
    "\n",
    "print('The %s are:' % tf.GraphKeys.TRAINABLE_VARIABLES)\n",
    "variables = graph.get_collection(tf.GraphKeys.TRAINABLE_VARIABLES)\n",
    "for var in variables:\n",
    "    print var.name\n",
    "print\n"
   ]
  }
 ],
 "metadata": {
  "kernelspec": {
   "display_name": "Python 2",
   "language": "python",
   "name": "python2"
  },
  "language_info": {
   "codemirror_mode": {
    "name": "ipython",
    "version": 2
   },
   "file_extension": ".py",
   "mimetype": "text/x-python",
   "name": "python",
   "nbconvert_exporter": "python",
   "pygments_lexer": "ipython2",
   "version": "2.7.12"
  }
 },
 "nbformat": 4,
 "nbformat_minor": 0
}
