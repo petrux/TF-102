{
 "cells": [
  {
   "cell_type": "markdown",
   "metadata": {},
   "source": [
    "# TensorFlow Tutorial\n",
    "This set of notebooks are intended to cover some basic topics about TensorFlow (TF) usage. This tutorial is intended to be something more than a `TF 101` (let,s say `TF >101`) as we assume that the reader already is somehow familiar with the idea of a computational graph. That's why any description about the basic algebra won't be covered and its left to the official documentation. Here follows a ideal outline for a full `TF` tutorial. Some of such topics are covered in this tutorial and links to the proper material will be provided.\n",
    "\n",
    "* What is a computational graph [not covered]\n",
    "* Basic Algebra [not covered]\n",
    "* [Anatomy of a `tf.Graph`](https://github.com/petrux/TF-102/blob/master/01-Graph.ipynb)\n",
    "* [Variables, Scopes and Devices](https://github.com/petrux/TF-102/blob/master/02-VarsScopeDevs.ipynb)\n",
    "* [Running graphs with `tf.Session`](https://github.com/petrux/TF-102/blob/master/03-Session.ipynb)\n",
    "* [See what's going on: `tf.Summary` and the `TensorBoard`](https://github.com/petrux/TF-102/blob/master/04-SummaryBoard.ipynb)\n",
    "* [Speed up your training with a proper input pipeline (Queues inside)](https://github.com/petrux/TF-102/blob/master/05-InputPipeline.ipynb)\n",
    "* Distributed training [not covered]\n",
    "* Serving a trained model [not covered]\n",
    "\n",
    "## Prerequisites\n",
    "You need to:\n",
    "* [Install TensorFlow](https://www.tensorflow.org/install/)\n",
    "* [Install IPython Notebook](https://ipython.org/install.html)\n",
    "\n",
    "## FYI\n",
    "Have you ever heared about Protocol Buffers?\n",
    "\n",
    "## Final Notes:\n",
    "Just keep always in mind: **contributions are welcome!!!**\n"
   ]
  },
  {
   "cell_type": "code",
   "execution_count": null,
   "metadata": {
    "collapsed": true
   },
   "outputs": [],
   "source": []
  }
 ],
 "metadata": {
  "kernelspec": {
   "display_name": "Python 2",
   "language": "python",
   "name": "python2"
  },
  "language_info": {
   "codemirror_mode": {
    "name": "ipython",
    "version": 2
   },
   "file_extension": ".py",
   "mimetype": "text/x-python",
   "name": "python",
   "nbconvert_exporter": "python",
   "pygments_lexer": "ipython2",
   "version": "2.7.12"
  }
 },
 "nbformat": 4,
 "nbformat_minor": 0
}
