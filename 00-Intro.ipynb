{
 "cells": [
  {
   "cell_type": "markdown",
   "metadata": {},
   "source": [
    "# TensorFlow Tutorial\n",
    "This set of notebooks are intended to cover some basic topics about TensorFlow (TF) usage. This tutorial is intended to be something more than a `TF 101` (let,s say `TF >101`) as we assume that the reader already is somehow familiar with the idea of a computational graph. That's why any description about the basic algebra won't be covered and its left to the official documentation. Here follows a ideal outline for a full `TF` tutorial. Some of such topics are covered in this tutorial and links to the proper material will be provided.\n",
    "\n",
    "* What is a computational graph [not covered]\n",
    "* Basic Algebra [not covered]\n",
    "* Anatomy of a `tf.Graph`\n",
    "* Variables and Scopes (and Devices)\n",
    "* Running graphs with `tf.Session`\n",
    "* See what's going on: the `TensorBoard`\n",
    "* Speed up your training with a proper input pipeline\n",
    "* Distributed training [not covered]\n",
    "* Serving a trained model [not covered]\n",
    "\n",
    "### Contributions are welcome!!!"
   ]
  }
 ],
 "metadata": {
  "kernelspec": {
   "display_name": "Python 2",
   "language": "python",
   "name": "python2"
  },
  "language_info": {
   "codemirror_mode": {
    "name": "ipython",
    "version": 2
   },
   "file_extension": ".py",
   "mimetype": "text/x-python",
   "name": "python",
   "nbconvert_exporter": "python",
   "pygments_lexer": "ipython2",
   "version": "2.7.12"
  }
 },
 "nbformat": 4,
 "nbformat_minor": 0
}
