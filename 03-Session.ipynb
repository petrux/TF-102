{
 "cells": [
  {
   "cell_type": "markdown",
   "metadata": {},
   "source": [
    "# Running graphs with `tf.Session()`\n",
    "\n",
    "The `tf.Session` class is used to launch a graph that has been previously created. In this example, our computational graph implements just a counter:\n",
    "\n"
   ]
  },
  {
   "cell_type": "code",
   "execution_count": 1,
   "metadata": {
    "collapsed": false
   },
   "outputs": [],
   "source": [
    "import tensorflow as tf\n",
    "tf.reset_default_graph()\n",
    "\n",
    "state = tf.Variable(0, name='state')\n",
    "step = tf.constant(1, name='step')\n",
    "increment = tf.add(state, step, name='increment')\n",
    "update = tf.assign(state, increment, name='update')"
   ]
  },
  {
   "cell_type": "markdown",
   "metadata": {},
   "source": [
    "Now, let's try to run our counter in a session.  \n",
    "First, we create a new session object."
   ]
  },
  {
   "cell_type": "code",
   "execution_count": 2,
   "metadata": {
    "collapsed": false
   },
   "outputs": [
    {
     "name": "stdout",
     "output_type": "stream",
     "text": [
      "<tensorflow.python.client.session.Session object at 0x7feba5bf3f90>\n"
     ]
    }
   ],
   "source": [
    "sess = tf.Session()\n",
    "print(sess)"
   ]
  },
  {
   "cell_type": "markdown",
   "metadata": {},
   "source": [
    "At the beginning of a session lifecycle, before running graph, you need to explicitly initialize all the variables to be used in the session. "
   ]
  },
  {
   "cell_type": "code",
   "execution_count": 3,
   "metadata": {
    "collapsed": true
   },
   "outputs": [],
   "source": [
    "init_op = tf.global_variables_initializer()\n",
    "sess.run(init_op)"
   ]
  },
  {
   "cell_type": "markdown",
   "metadata": {},
   "source": [
    "Then we can run our computation."
   ]
  },
  {
   "cell_type": "code",
   "execution_count": 4,
   "metadata": {
    "collapsed": false
   },
   "outputs": [
    {
     "name": "stdout",
     "output_type": "stream",
     "text": [
      "0\n",
      "1\n",
      "2\n",
      "3\n",
      "4\n",
      "5\n",
      "6\n",
      "7\n",
      "8\n",
      "9\n"
     ]
    }
   ],
   "source": [
    "print sess.run(state)\n",
    "for _ in range(9):\n",
    "    print sess.run(update)"
   ]
  },
  {
   "cell_type": "markdown",
   "metadata": {},
   "source": [
    "A `tf.Session` can owns resources that must be released at the end of the session lifecycle."
   ]
  },
  {
   "cell_type": "code",
   "execution_count": 5,
   "metadata": {
    "collapsed": true
   },
   "outputs": [],
   "source": [
    "sess.close()"
   ]
  },
  {
   "cell_type": "markdown",
   "metadata": {},
   "source": [
    "Ok, let's put all together and use the pythonic context idiom so that we shall not care about disposing the sessio  object and releasing resources:"
   ]
  },
  {
   "cell_type": "code",
   "execution_count": 6,
   "metadata": {
    "collapsed": false
   },
   "outputs": [
    {
     "name": "stdout",
     "output_type": "stream",
     "text": [
      "0\n",
      "1\n",
      "2\n",
      "3\n",
      "4\n",
      "5\n",
      "6\n",
      "7\n",
      "8\n",
      "9\n"
     ]
    }
   ],
   "source": [
    "with tf.Session() as sess:\n",
    "    sess.run(tf.global_variables_initializer())\n",
    "    print sess.run(state)\n",
    "    for i in range(9):\n",
    "        print sess.run(update)"
   ]
  },
  {
   "cell_type": "markdown",
   "metadata": {},
   "source": [
    "...et voilà!"
   ]
  },
  {
   "cell_type": "markdown",
   "metadata": {},
   "source": [
    "## Saving and restoring\n",
    "\n",
    "You might want to save the state of your model during the training. TF offers you a very easy way to persist the state of your session.  \n",
    "  \n",
    "First, let's build a model to compute the `AND` logical function between two input signals."
   ]
  },
  {
   "cell_type": "code",
   "execution_count": 7,
   "metadata": {
    "collapsed": false
   },
   "outputs": [],
   "source": [
    "tf.reset_default_graph()\n",
    "\n",
    "xy = tf.placeholder(name='xy', dtype=tf.float32, shape=[None, 2])\n",
    "x_and_y = tf.placeholder(name='x_and_y', dtype=tf.float32, shape=[None, 1])\n",
    "w = tf.get_variable(name='w', dtype=tf.float32, shape=[2, 1])\n",
    "b = tf.get_variable(name='b', dtype=tf.float32, shape=[])\n",
    "logits = tf.matmul(xy, w) + b\n",
    "pred = tf.sigmoid(logits)\n",
    "loss_op = tf.losses.mean_squared_error(x_and_y, pred)\n",
    "train_op = tf.train.GradientDescentOptimizer(0.1).minimize(loss_op)"
   ]
  },
  {
   "cell_type": "markdown",
   "metadata": {},
   "source": [
    "The `get_data()` function returns batches of 32 examples."
   ]
  },
  {
   "cell_type": "code",
   "execution_count": 8,
   "metadata": {
    "collapsed": false
   },
   "outputs": [],
   "source": [
    "import numpy\n",
    "import random\n",
    "\n",
    "def get_data():\n",
    "    xs = [random.randint(0, 1) for _ in range(32)]\n",
    "    ys = [random.randint(0, 1) for _ in range(32)]\n",
    "    xy = numpy.asarray([[x, y] for x, y in zip(xs, ys)], dtype=numpy.float32)\n",
    "    x_and_y = numpy.asarray([[x * y] for x, y in zip(xs, ys)], dtype=numpy.float32)\n",
    "    return xy, x_and_y"
   ]
  },
  {
   "cell_type": "markdown",
   "metadata": {},
   "source": [
    "Then, we run training for 100 steps, running a single evaluation step every 10 steps and saving the current state of the session. To save it, we have to create a `tf.Saver` objects and set a pysical path that will be used to persist the session state in the so called *model checkpoint*."
   ]
  },
  {
   "cell_type": "code",
   "execution_count": 9,
   "metadata": {
    "collapsed": false
   },
   "outputs": [
    {
     "name": "stdout",
     "output_type": "stream",
     "text": [
      "step 0: loss 0.278275 -- stored in /tmp/TF-102-03/MODEL-0\n",
      "step 100: loss 0.186331 -- stored in /tmp/TF-102-03/MODEL-100\n",
      "step 200: loss 0.113936 -- stored in /tmp/TF-102-03/MODEL-200\n",
      "step 300: loss 0.111630 -- stored in /tmp/TF-102-03/MODEL-300\n",
      "step 400: loss 0.095649 -- stored in /tmp/TF-102-03/MODEL-400\n",
      "step 500: loss 0.090721 -- stored in /tmp/TF-102-03/MODEL-500\n",
      "step 600: loss 0.080667 -- stored in /tmp/TF-102-03/MODEL-600\n",
      "step 700: loss 0.068780 -- stored in /tmp/TF-102-03/MODEL-700\n",
      "step 800: loss 0.060936 -- stored in /tmp/TF-102-03/MODEL-800\n",
      "step 900: loss 0.062061 -- stored in /tmp/TF-102-03/MODEL-900\n"
     ]
    }
   ],
   "source": [
    "import os\n",
    "import shutil\n",
    "\n",
    "CHECKPOINT_DIR = '/tmp/TF-102-03/'\n",
    "CHECKPOINT_NAME = 'MODEL'\n",
    "if os.path.isdir(CHECKPOINT_DIR):\n",
    "    shutil.rmtree(CHECKPOINT_DIR)\n",
    "os.mkdir(CHECKPOINT_DIR)\n",
    "CHECKPOINT = os.path.join(CHECKPOINT_DIR, CHECKPOINT_NAME)\n",
    "\n",
    "saver = tf.train.Saver()\n",
    "\n",
    "with tf.Session() as sess:\n",
    "    sess.run(tf.global_variables_initializer())\n",
    "    for step in range(1000):\n",
    "        inp, target = get_data()\n",
    "        sess.run(train_op, feed_dict={\n",
    "                xy: inp,\n",
    "                x_and_y: target\n",
    "            })\n",
    "        \n",
    "        # Evaluation!\n",
    "        if step % 100 == 0:\n",
    "            loss = sess.run(loss_op, feed_dict={\n",
    "                xy: inp,\n",
    "                x_and_y: target\n",
    "            })\n",
    "            checkpoint = saver.save(sess, CHECKPOINT, global_step=step)\n",
    "            print('step %d: loss %f -- stored in %s' % (step, loss, checkpoint))"
   ]
  },
  {
   "cell_type": "markdown",
   "metadata": {},
   "source": [
    "We can reload the restore the latest session and reuse the model: the `loss` values will be comparable with the latest ones."
   ]
  },
  {
   "cell_type": "code",
   "execution_count": 24,
   "metadata": {
    "collapsed": false
   },
   "outputs": [
    {
     "name": "stdout",
     "output_type": "stream",
     "text": [
      "INFO:tensorflow:Restoring parameters from /tmp/TF-102-03/MODEL-900\n"
     ]
    },
    {
     "name": "stderr",
     "output_type": "stream",
     "text": [
      "INFO:tensorflow:Restoring parameters from /tmp/TF-102-03/MODEL-900\n"
     ]
    },
    {
     "name": "stdout",
     "output_type": "stream",
     "text": [
      "loss: 0.053307\n",
      "loss: 0.053307\n",
      "loss: 0.053307\n",
      "loss: 0.053307\n",
      "loss: 0.053307\n"
     ]
    }
   ],
   "source": [
    "saver = tf.train.Saver()\n",
    "with tf.Session() as sess:\n",
    "    checkpoint = tf.train.latest_checkpoint(CHECKPOINT_DIR)\n",
    "    saver.restore(sess, checkpoint)\n",
    "    for _ in range(5):\n",
    "        loss = sess.run(loss_op, feed_dict={\n",
    "                    xy: inp,\n",
    "                    x_and_y: target\n",
    "                })\n",
    "        print('loss: %f' % loss)"
   ]
  }
 ],
 "metadata": {
  "kernelspec": {
   "display_name": "Python 2",
   "language": "python",
   "name": "python2"
  },
  "language_info": {
   "codemirror_mode": {
    "name": "ipython",
    "version": 2
   },
   "file_extension": ".py",
   "mimetype": "text/x-python",
   "name": "python",
   "nbconvert_exporter": "python",
   "pygments_lexer": "ipython2",
   "version": "2.7.12"
  }
 },
 "nbformat": 4,
 "nbformat_minor": 0
}
